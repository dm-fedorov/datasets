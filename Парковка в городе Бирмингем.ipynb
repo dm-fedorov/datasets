{
 "cells": [
  {
   "cell_type": "markdown",
   "metadata": {},
   "source": [
    "# <center> Парковка в городе Бирмингем</center>"
   ]
  },
  {
   "cell_type": "markdown",
   "metadata": {},
   "source": [
    "Ссылка на данные: https://archive.ics.uci.edu/ml/machine-learning-databases/00482/\n",
    "\n",
    "Данные, собранные на автостоянках в Бирмингеме, которыми управляет NCP, из городского совета Бирмингема. Показатели занятости (с 8:00 до 16:30) с 4 октября 2016 по 19 декабря 2016."
   ]
  },
  {
   "cell_type": "code",
   "execution_count": 2,
   "metadata": {},
   "outputs": [],
   "source": [
    "import pandas as pd \n",
    "parking =pd.read_csv(\"dataset.csv\")"
   ]
  },
  {
   "cell_type": "code",
   "execution_count": 3,
   "metadata": {},
   "outputs": [
    {
     "data": {
      "text/html": [
       "<div>\n",
       "<style scoped>\n",
       "    .dataframe tbody tr th:only-of-type {\n",
       "        vertical-align: middle;\n",
       "    }\n",
       "\n",
       "    .dataframe tbody tr th {\n",
       "        vertical-align: top;\n",
       "    }\n",
       "\n",
       "    .dataframe thead th {\n",
       "        text-align: right;\n",
       "    }\n",
       "</style>\n",
       "<table border=\"1\" class=\"dataframe\">\n",
       "  <thead>\n",
       "    <tr style=\"text-align: right;\">\n",
       "      <th></th>\n",
       "      <th>0</th>\n",
       "      <th>1</th>\n",
       "      <th>2</th>\n",
       "      <th>3</th>\n",
       "      <th>4</th>\n",
       "    </tr>\n",
       "  </thead>\n",
       "  <tbody>\n",
       "    <tr>\n",
       "      <th>SystemCodeNumber</th>\n",
       "      <td>BHMBCCMKT01</td>\n",
       "      <td>BHMBCCMKT01</td>\n",
       "      <td>BHMBCCMKT01</td>\n",
       "      <td>BHMBCCMKT01</td>\n",
       "      <td>BHMBCCMKT01</td>\n",
       "    </tr>\n",
       "    <tr>\n",
       "      <th>Capacity</th>\n",
       "      <td>577</td>\n",
       "      <td>577</td>\n",
       "      <td>577</td>\n",
       "      <td>577</td>\n",
       "      <td>577</td>\n",
       "    </tr>\n",
       "    <tr>\n",
       "      <th>Occupancy</th>\n",
       "      <td>61</td>\n",
       "      <td>64</td>\n",
       "      <td>80</td>\n",
       "      <td>107</td>\n",
       "      <td>150</td>\n",
       "    </tr>\n",
       "    <tr>\n",
       "      <th>LastUpdated</th>\n",
       "      <td>2016-10-04 07:59:42</td>\n",
       "      <td>2016-10-04 08:25:42</td>\n",
       "      <td>2016-10-04 08:59:42</td>\n",
       "      <td>2016-10-04 09:32:46</td>\n",
       "      <td>2016-10-04 09:59:48</td>\n",
       "    </tr>\n",
       "  </tbody>\n",
       "</table>\n",
       "</div>"
      ],
      "text/plain": [
       "                                    0                    1  \\\n",
       "SystemCodeNumber          BHMBCCMKT01          BHMBCCMKT01   \n",
       "Capacity                          577                  577   \n",
       "Occupancy                          61                   64   \n",
       "LastUpdated       2016-10-04 07:59:42  2016-10-04 08:25:42   \n",
       "\n",
       "                                    2                    3  \\\n",
       "SystemCodeNumber          BHMBCCMKT01          BHMBCCMKT01   \n",
       "Capacity                          577                  577   \n",
       "Occupancy                          80                  107   \n",
       "LastUpdated       2016-10-04 08:59:42  2016-10-04 09:32:46   \n",
       "\n",
       "                                    4  \n",
       "SystemCodeNumber          BHMBCCMKT01  \n",
       "Capacity                          577  \n",
       "Occupancy                         150  \n",
       "LastUpdated       2016-10-04 09:59:48  "
      ]
     },
     "execution_count": 3,
     "metadata": {},
     "output_type": "execute_result"
    }
   ],
   "source": [
    "parking.head().T"
   ]
  },
  {
   "cell_type": "code",
   "execution_count": 4,
   "metadata": {
    "scrolled": true
   },
   "outputs": [
    {
     "name": "stdout",
     "output_type": "stream",
     "text": [
      "<class 'pandas.core.frame.DataFrame'>\n",
      "RangeIndex: 35717 entries, 0 to 35716\n",
      "Data columns (total 4 columns):\n",
      "SystemCodeNumber    35717 non-null object\n",
      "Capacity            35717 non-null int64\n",
      "Occupancy           35717 non-null int64\n",
      "LastUpdated         35717 non-null object\n",
      "dtypes: int64(2), object(2)\n",
      "memory usage: 837.2+ KB\n"
     ]
    }
   ],
   "source": [
    "parking.info()"
   ]
  },
  {
   "cell_type": "markdown",
   "metadata": {},
   "source": [
    "#### Количество столбцов: 4.\n",
    "#### Количество строк: 35717.\n",
    "#### Пропусков нет.\n",
    "#### Информация о признаках:\n",
    "SystemCodeNumber: идентификатор парковки, тип object.\n",
    "\n",
    "Capacity: вместимость парковки, тип object.\n",
    "\n",
    "Occupancy: заполняемость парковки, тип int64.\n",
    "\n",
    "LastUpdated: дата и время измерения, тип int64.\n",
    "#### Характеристики данных: Многомерные, одномерные, последовательные, временные ряды.\n",
    "#### Применимы для задач классификации, регрессии, кластеризации."
   ]
  },
  {
   "cell_type": "code",
   "execution_count": null,
   "metadata": {},
   "outputs": [],
   "source": []
  }
 ],
 "metadata": {
  "kernelspec": {
   "display_name": "Python 3",
   "language": "python",
   "name": "python3"
  },
  "language_info": {
   "codemirror_mode": {
    "name": "ipython",
    "version": 3
   },
   "file_extension": ".py",
   "mimetype": "text/x-python",
   "name": "python",
   "nbconvert_exporter": "python",
   "pygments_lexer": "ipython3",
   "version": "3.6.5"
  }
 },
 "nbformat": 4,
 "nbformat_minor": 2
}
