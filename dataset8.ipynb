{
 "cells": [
  {
   "cell_type": "markdown",
   "metadata": {},
   "source": [
    "Ссылка на датасет:https://archive.ics.uci.edu/ml/datasets/Health+News+in+Twitter\n",
    "\n",
    "Название: <b>Новости о здравоохраненнии в Твиттере</b>\n",
    "\n",
    "Данные были собраны в 2015 году с помощью Twitter API. Этот набор данных содержит Новости здравоохранения из более чем 15 крупных агентств новостей здравоохранения, таких как BBC, CNN и NYT\n",
    "\n",
    "Каждый файл связан с одной учетной записью в Twitter информационного агентства. Например, bbchealth.txt связан с новостями BBC о здоровье. Каждая строка содержит твит с идентификатором | дата и время | твит. Разделителем является '|'. Эти текстовые данные были использованы для оценки производительности тематических моделей на коротких текстовых данных. Однако его можно использовать для других задач, таких как кластеризация."
   ]
  },
  {
   "cell_type": "code",
   "execution_count": null,
   "metadata": {},
   "outputs": [],
   "source": []
  }
 ],
 "metadata": {
  "kernelspec": {
   "display_name": "Python 3",
   "language": "python",
   "name": "python3"
  },
  "language_info": {
   "codemirror_mode": {
    "name": "ipython",
    "version": 3
   },
   "file_extension": ".py",
   "mimetype": "text/x-python",
   "name": "python",
   "nbconvert_exporter": "python",
   "pygments_lexer": "ipython3",
   "version": "3.7.1"
  }
 },
 "nbformat": 4,
 "nbformat_minor": 2
}
