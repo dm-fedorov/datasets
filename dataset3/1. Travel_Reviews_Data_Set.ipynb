{
 "cells": [
  {
   "cell_type": "code",
   "execution_count": 3,
   "metadata": {},
   "outputs": [
    {
     "ename": "SyntaxError",
     "evalue": "invalid syntax (<ipython-input-3-61be5b7017d8>, line 1)",
     "output_type": "error",
     "traceback": [
      "\u001b[1;36m  File \u001b[1;32m\"<ipython-input-3-61be5b7017d8>\"\u001b[1;36m, line \u001b[1;32m1\u001b[0m\n\u001b[1;33m    This data set is populated by crawling TripAdvisor.com.\u001b[0m\n\u001b[1;37m            ^\u001b[0m\n\u001b[1;31mSyntaxError\u001b[0m\u001b[1;31m:\u001b[0m invalid syntax\n"
     ]
    }
   ],
   "source": [
    "This data set is populated by crawling TripAdvisor.com.\n",
    "Reviews on destinations in 10 categories mentioned across East Asia are considered.\n",
    "Each traveler rating is mapped as Excellent (4), Very Good (3), Average (2), Poor (1),and Terrible (0)\n",
    "and average rating is used against each category per user.\n",
    "\n",
    "Эти данные о посетителях TripAdvisor.com.\n",
    "Оценки мест в 10 категориях в восточной азии.\n",
    "Все оценки посетителей заменены на: \n",
    "Отлично -> 4, Очень хорошо -> 3, Обычно -> 2, плохо -> 1, Ужасно -> 0\n",
    "средняя оценка используется для каждой категории"
   ]
  },
  {
   "cell_type": "code",
   "execution_count": null,
   "metadata": {},
   "outputs": [],
   "source": [
    "Data Set Characteristics:  Multivariate, Text\n",
    "\n",
    "Number of Instances: 980\n",
    "\n",
    "Area: N/A\n",
    "\n",
    "Attribute Characteristics: Real\n",
    "\n",
    "Number of Attributes: 11\n",
    "\n",
    "Date Donated 2018-12-19\n",
    "\n",
    "Associated Tasks: Classification, Clustering\n",
    "\n",
    "Missing Values? N/A\n",
    "\n",
    "Number of Web Hits: 8341\n",
    "    \n",
    "    \n",
    "Характеристики дата сета:  Мультивариативный, текст\n",
    "\n",
    "Размер дата сета: 980\n",
    "\n",
    "Сфера: N/A\n",
    "\n",
    "Характеристики атрибутов: Real\n",
    "\n",
    "Количество атрибутов: 11\n",
    "\n",
    "Дата создания 2018-12-19\n",
    "\n",
    "Сопутствующие задания: Классификация, Кластеризация\n",
    "\n",
    "Пропущенные значения N/A\n",
    "\n",
    "Number of Web Hits: 8341    "
   ]
  }
 ],
 "metadata": {
  "kernelspec": {
   "display_name": "Python 3",
   "language": "python",
   "name": "python3"
  },
  "language_info": {
   "codemirror_mode": {
    "name": "ipython",
    "version": 3
   },
   "file_extension": ".py",
   "mimetype": "text/x-python",
   "name": "python",
   "nbconvert_exporter": "python",
   "pygments_lexer": "ipython3",
   "version": "3.7.1"
  }
 },
 "nbformat": 4,
 "nbformat_minor": 2
}
