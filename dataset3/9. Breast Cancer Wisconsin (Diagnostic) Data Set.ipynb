{
 "cells": [
  {
   "cell_type": "markdown",
   "metadata": {},
   "source": [
    "Breast Cancer Wisconsin (Diagnostic) Data Set"
   ]
  },
  {
   "cell_type": "markdown",
   "metadata": {},
   "source": [
    "Abstract: данные о наличии рака молочной железы,Висконсин"
   ]
  },
  {
   "cell_type": "markdown",
   "metadata": {},
   "source": [
    "Характеристика данных: многомерный\n",
    "\n",
    "Размер дата сета: 569\n",
    "\n",
    "Сфера: Жизнь\n",
    "\n",
    "Характеристики признаков: Вещественные числа\n",
    "\n",
    "Количество признаков: 32\n",
    "\n",
    "Дата создания: 1995-11-01\n",
    "\n",
    "Цель: Классификация\n",
    "\n",
    "Пропущенные значения: нет\n",
    "\n",
    "Number of Web Hits: 867015"
   ]
  },
  {
   "cell_type": "markdown",
   "metadata": {},
   "source": [
    "Информация о данных:\n",
    "\n",
    "Признаки рассчитываются на основе оцифрованного изображения результатов FNA - аспирата с тонкой иглой. Они описывают характеристики ядер клеток, присутствующих на изображении.\n",
    "\n",
    "Описанная выше разделяющая плоскость получена методом MSM-T [K. P. Bennett, \"Decision Tree Construction Via Linear Programming.\" Proceedings of the 4th Midwest Artificial Intelligence and Cognitive Science Society, pp. 97-101, 1992], метод классификации, который использует линейное программирование для построения дерева решений. Соответствующие объекты были выбраны с помощью полного поиска в пространстве 1-4 объектов и 1-3 разделяющих плоскостей. \n",
    "\n",
    "Фактическая линейная программа, используемая для получения разделяющей плоскости в трехмерном пространстве, описывается в: [K. P. Bennett and O. L. Mangasarian: \"Robust Linear Programming Discrimination of Two Linearly Inseparable Sets\", Optimization Methods and Software 1, 1992, 23-34]. \n",
    "\n",
    "Эта база данных также доступна через UW CS ftp-сервер: \n",
    "ftp ftp.cs.wisc.edu \n",
    "cd math-prog/cpo-dataset/machine-learn/WDBC/"
   ]
  },
  {
   "cell_type": "markdown",
   "metadata": {},
   "source": [
    "Описание данных:\n",
    "\n",
    "1) ID номер \n",
    "\n",
    "2) Диагноз (M = злокачественная, B = доброкачественная) \n",
    "\n",
    "3) - 32) \n",
    "\n",
    "Для каждого ядра клетки вычисляются десять вещественных признаков: \n",
    "\n",
    "- радиус (среднее расстояние от центра до точек по периметру) \n",
    "- текстура (стандартное отклонение значений серой шкалы) \n",
    "- периметр \n",
    "- площадь \n",
    "- гладкость (локальное изменение длины радиуса) \n",
    "- компактность (периметр^2 / Площадь - 1,0) \n",
    "- вогнутость (выраженность вогнутых участков контура) \n",
    "- вогнутые точки (количество вогнутых участков контура) \n",
    "- симметрия \n",
    "- фрактальная размерность (\"coastline approximation\" - 1)"
   ]
  }
 ],
 "metadata": {
  "kernelspec": {
   "display_name": "Python 3",
   "language": "python",
   "name": "python3"
  },
  "language_info": {
   "codemirror_mode": {
    "name": "ipython",
    "version": 3
   },
   "file_extension": ".py",
   "mimetype": "text/x-python",
   "name": "python",
   "nbconvert_exporter": "python",
   "pygments_lexer": "ipython3",
   "version": "3.6.5"
  }
 },
 "nbformat": 4,
 "nbformat_minor": 2
}
