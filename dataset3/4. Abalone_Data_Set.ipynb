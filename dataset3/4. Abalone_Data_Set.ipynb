{
 "cells": [
  {
   "cell_type": "code",
   "execution_count": null,
   "metadata": {},
   "outputs": [],
   "source": [
    "Abalone - Абалон (Морские ушки)"
   ]
  },
  {
   "cell_type": "code",
   "execution_count": null,
   "metadata": {},
   "outputs": [],
   "source": [
    "Abstract: Predict the age of abalone from physical measurements\n",
    "Предсказать возвраст абалона по физическим измерениям"
   ]
  },
  {
   "cell_type": "code",
   "execution_count": null,
   "metadata": {},
   "outputs": [],
   "source": [
    "Data Set Characteristics:  Multivariate\n",
    "\n",
    "Number of Instances: 4177\n",
    "\n",
    "Area: Life\n",
    "\n",
    "Attribute Characteristics: Categorical, Integer, Real\n",
    "\n",
    "Number of Attributes: 8\n",
    "\n",
    "Date Donated 1995-12-01\n",
    "\n",
    "Associated Tasks: Classification\n",
    "\n",
    "Missing Values? No\n",
    "\n",
    "Number of Web Hits: 739469\n",
    "    \n",
    "    \n",
    "Характеристики дата сета:  Мультивариативный\n",
    "\n",
    "Размер дата сета: 4177\n",
    "\n",
    "Сфера: Жизнь\n",
    "\n",
    "Характеристики атрибутов: Categorical, Integer, Real\n",
    "\n",
    "Количество атрибутов: 8\n",
    "\n",
    "Дата создания 1995-12-01\n",
    "\n",
    "Сопутствующие задания: Классификация\n",
    "\n",
    "Пропущенные значения Нет\n",
    "\n",
    "Number of Web Hits: 739469       "
   ]
  },
  {
   "cell_type": "code",
   "execution_count": null,
   "metadata": {},
   "outputs": [],
   "source": [
    "Data Set Information:\n",
    "\n",
    "Predicting the age of abalone from physical measurements.\n",
    "The age of abalone is determined by cutting the shell through the cone, staining it,\n",
    "and counting the number of rings through a microscope -- a boring and time-consuming task.\n",
    "Other measurements, which are easier to obtain, are used to predict the age.\n",
    "Further information, such as weather patterns and location (hence food availability) may be required to solve the problem. \n",
    "\n",
    "From the original data examples with missing values were removed (the majority having the predicted value missing),\n",
    "and the ranges of the continuous values have been scaled for use with an ANN (by dividing by 200).\n",
    "\n",
    "\n",
    "Предсказать возвраст абалона по физическим измерениям.\n",
    "Возраст абалона определяется путем разрезания раковины, окрашивания и подчета количества колец с помощью микроскопа -- скучное и долгое занятие\n",
    "Другие измерения, которые легче получить, используются для предсказания возраста.\n",
    "Дополнительная информация, такая как климат и местоположение могут быть нужны для решения проблемы"
   ]
  },
  {
   "cell_type": "code",
   "execution_count": null,
   "metadata": {},
   "outputs": [],
   "source": [
    "Given is the attribute name, attribute type, the measurement unit and a brief description.\n",
    "The number of rings is the value to predict: either as a continuous value or as a classification problem. \n",
    "\n",
    "Name / Data Type / Measurement Unit / Description \n",
    "----------------------------- \n",
    "Sex / nominal / -- / M, F, and I (infant) \n",
    "Length / continuous / mm / Longest shell measurement \n",
    "Diameter\t/ continuous / mm / perpendicular to length \n",
    "Height / continuous / mm / with meat in shell \n",
    "Whole weight / continuous / grams / whole abalone \n",
    "Shucked weight / continuous\t/ grams / weight of meat \n",
    "Viscera weight / continuous / grams / gut weight (after bleeding) \n",
    "Shell weight / continuous / grams / after being dried \n",
    "Rings / integer / -- / +1.5 gives the age in years \n",
    "\n",
    "The readme file contains attribute statistics.\n",
    "\n",
    "\n",
    "Дано имя атрибута, тип атрибута, единица измерения и краткое описание.\n",
    "Число колец - это прогнозируемое значение: либо в виде непрерывного значения, либо в качестве задачи классификации.\n",
    "\n",
    "Имя / Тип данных / Единица измерения / Описание\n",
    "-----------------------------\n",
    "Пол / номинальный / - / M, F и I (младенец)\n",
    "Длина / непрерывная / mm / самая длинная измерение раковины\n",
    "Диаметр / непрерывный / mm / перпендикуляр к длине\n",
    "Высота / сплошная / mm / с мясом в раковине\n",
    "Весь вес / непрерывный / грамм / целое морское ушко\n",
    "\"очищенная\" масса / непрерывная / грамм / масса мяса\n",
    "Вес внутренних органов / непрерывный / грамм / вес кишечника (после кровотечения)\n",
    "Вес оболочки / непрерывный / грамм / после сушки\n",
    "Кольца / целое число / - / +1.5 дает возраст в годах\n",
    "\n",
    "Файл readme содержит статистику атрибутов."
   ]
  }
 ],
 "metadata": {
  "kernelspec": {
   "display_name": "Python 3",
   "language": "python",
   "name": "python3"
  },
  "language_info": {
   "codemirror_mode": {
    "name": "ipython",
    "version": 3
   },
   "file_extension": ".py",
   "mimetype": "text/x-python",
   "name": "python",
   "nbconvert_exporter": "python",
   "pygments_lexer": "ipython3",
   "version": "3.7.1"
  }
 },
 "nbformat": 4,
 "nbformat_minor": 2
}
