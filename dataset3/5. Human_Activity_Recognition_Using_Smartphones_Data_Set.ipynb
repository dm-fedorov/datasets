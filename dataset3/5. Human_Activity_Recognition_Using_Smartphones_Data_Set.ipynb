{
 "cells": [
  {
   "cell_type": "code",
   "execution_count": 1,
   "metadata": {},
   "outputs": [
    {
     "ename": "SyntaxError",
     "evalue": "invalid syntax (<ipython-input-1-fcf98df02962>, line 1)",
     "output_type": "error",
     "traceback": [
      "\u001b[1;36m  File \u001b[1;32m\"<ipython-input-1-fcf98df02962>\"\u001b[1;36m, line \u001b[1;32m1\u001b[0m\n\u001b[1;33m    Abstract: Human Activity Recognition database built from the recordings of 30 subjects performing activities of daily living\u001b[0m\n\u001b[1;37m                           ^\u001b[0m\n\u001b[1;31mSyntaxError\u001b[0m\u001b[1;31m:\u001b[0m invalid syntax\n"
     ]
    }
   ],
   "source": [
    "Abstract: Human Activity Recognition database built from the recordings of 30 subjects performing activities of daily living \n",
    "(ADL) while carrying a waist-mounted smartphone with embedded inertial sensors.\n",
    "Human Activity Recognition - Распознование активности целовека \n",
    "\n",
    "Human Activity Recognition database сделан с помощью записей о 30 людях занимающихся повседневными делами, нося на поясе смартфон\n",
    "со встроенными инерционными датчиками"
   ]
  },
  {
   "cell_type": "code",
   "execution_count": null,
   "metadata": {},
   "outputs": [],
   "source": [
    "Data Set Characteristics:  Multivariate, Time-Series\n",
    "\n",
    "Number of Instances: 10299\n",
    "\n",
    "Area: Computer\n",
    "\n",
    "Attribute Characteristics: N/A\n",
    "\n",
    "Number of Attributes: 561\n",
    "\n",
    "Date Donated 2012-12-10\n",
    "\n",
    "Associated Tasks: Classification, Clustering\n",
    "\n",
    "Missing Values? N/A\n",
    "\n",
    "Number of Web Hits: 777601\n",
    "    \n",
    "    \n",
    "    \n",
    "Характеристики дата сета:  Мультивариативный, Временой ряд\n",
    "\n",
    "Размер дата сета: 10299\n",
    "\n",
    "Сфера: Компьютер\n",
    "\n",
    "Характеристики атрибутов: N/A\n",
    "\n",
    "Количество атрибутов: 561\n",
    "\n",
    "Дата создания 2012-12-10\n",
    "\n",
    "Сопутствующие задания: Классификация, Кластеринг\n",
    "\n",
    "Пропущенные значения N/A\n",
    "\n",
    "Number of Web Hits: 777601           "
   ]
  },
  {
   "cell_type": "code",
   "execution_count": null,
   "metadata": {},
   "outputs": [],
   "source": [
    "The experiments have been carried out with a group of 30 volunteers within an age bracket of 19-48 years.\n",
    "Each person performed six activities (WALKING, WALKING_UPSTAIRS, WALKING_DOWNSTAIRS, SITTING, STANDING, LAYING)\n",
    "wearing a smartphone (Samsung Galaxy S II) on the waist.\n",
    "Using its embedded accelerometer and gyroscope, we captured 3-axial linear acceleration and 3-axial angular velocity\n",
    "at a constant rate of 50Hz.\n",
    "The experiments have been video-recorded to label the data manually.\n",
    "The obtained dataset has been randomly partitioned into two sets,\n",
    "where 70% of the volunteers was selected for generating the training data and 30% the test data. \n",
    "\n",
    "The sensor signals (accelerometer and gyroscope) were pre-processed by applying noise filters and then sampled\n",
    "in fixed-width sliding windows of 2.56 sec and 50% overlap (128 readings/window).\n",
    "The sensor acceleration signal, which has gravitational and body motion components,\n",
    "was separated using a Butterworth low-pass filter into body acceleration and gravity.\n",
    "The gravitational force is assumed to have only low frequency components,\n",
    "therefore a filter with 0.3 Hz cutoff frequency was used. From each window,\n",
    "a vector of features was obtained by calculating variables from the time and frequency domain.\n",
    "\n",
    "Check the README.txt file for further details about this dataset. \n",
    "\n",
    "\n",
    "\n",
    "Эксперименты проводились с группой из 30 добровольцев в возрасте от 19 до 48 лет.\n",
    "Каждый человек выполнил шесть действий (хождение, подъем по лестнице, спуск по лестнице, сидение, стояние, лежание)\n",
    "нося смартфон (Samsung Galaxy S II) на талии.\n",
    "Используя встроенный акселерометр и гироскоп, мы зафиксировали 3-осевое линейное ускорение и 3-осевую угловую скорость\n",
    "с постоянной частотой 50 Гц.\n",
    "Эксперименты были записаны на видео для маркировки данных вручную.\n",
    "Полученный набор данных был случайным образом разделен на два набора,\n",
    "где 70% добровольцев было выбрано для получения обучающих данных и 30% - тестовых данных.\n",
    "\n",
    "Сигналы датчика (акселерометр и гироскоп) были предварительно обработаны с применением шумовых фильтров и затем отобраны\n",
    "в раздвижных окнах фиксированной ширины 2,56 сек и 50% перекрытия (128 показаний / окно).\n",
    "Сигнал датчика ускорения, который имеет компоненты гравитации и движения тела,\n",
    "был разделен с помощью фильтра нижних частот Баттерворта на ускорение тела и гравитацию.\n",
    "Предполагается, что гравитационная сила имеет только низкочастотные составляющие,\n",
    "поэтому был использован фильтр с частотой среза 0,3 Гц. Из каждого окна\n",
    "вектор признаков был получен путем вычисления переменных из временной и частотной области.\n",
    "\n",
    "Проверьте файл README.txt для получения дополнительной информации об этом наборе данных.\n"
   ]
  },
  {
   "cell_type": "code",
   "execution_count": 2,
   "metadata": {},
   "outputs": [
    {
     "ename": "SyntaxError",
     "evalue": "invalid syntax (<ipython-input-2-f6a3132da7fb>, line 1)",
     "output_type": "error",
     "traceback": [
      "\u001b[1;36m  File \u001b[1;32m\"<ipython-input-2-f6a3132da7fb>\"\u001b[1;36m, line \u001b[1;32m1\u001b[0m\n\u001b[1;33m    For each record in the dataset it is provided:\u001b[0m\n\u001b[1;37m           ^\u001b[0m\n\u001b[1;31mSyntaxError\u001b[0m\u001b[1;31m:\u001b[0m invalid syntax\n"
     ]
    }
   ],
   "source": [
    "For each record in the dataset it is provided: \n",
    "- Triaxial acceleration from the accelerometer (total acceleration) and the estimated body acceleration. \n",
    "- Triaxial Angular velocity from the gyroscope. \n",
    "- A 561-feature vector with time and frequency domain variables. \n",
    "- Its activity label. \n",
    "- An identifier of the subject who carried out the experiment.\n",
    "\n",
    "Для каждой записи в наборе данных предусмотрено:\n",
    "- Трехосное ускорение от акселерометра (общее ускорение) и расчетное ускорение тела.\n",
    "- Трехосная угловая скорость от гироскопа.\n",
    "- 561-элементный вектор с переменными во временной и частотной областях.\n",
    "- Метка его активности.\n",
    "- Идентификатор субъекта, проводившего эксперимент.\n",
    "    "
   ]
  },
  {
   "cell_type": "code",
   "execution_count": null,
   "metadata": {},
   "outputs": [],
   "source": []
  }
 ],
 "metadata": {
  "kernelspec": {
   "display_name": "Python 3",
   "language": "python",
   "name": "python3"
  },
  "language_info": {
   "codemirror_mode": {
    "name": "ipython",
    "version": 3
   },
   "file_extension": ".py",
   "mimetype": "text/x-python",
   "name": "python",
   "nbconvert_exporter": "python",
   "pygments_lexer": "ipython3",
   "version": "3.7.1"
  }
 },
 "nbformat": 4,
 "nbformat_minor": 2
}
