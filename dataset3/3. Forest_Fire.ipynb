{
 "cells": [
  {
   "cell_type": "code",
   "execution_count": null,
   "metadata": {},
   "outputs": [],
   "source": [
    "Citation Request:\n",
    "  This dataset is public available for research. The details are described in [Cortez and Morais, 2007]. \n",
    "  Please include this citation if you plan to use this database:\n",
    "\n",
    "  P. Cortez and A. Morais. A Data Mining Approach to Predict Forest Fires using Meteorological Data. \n",
    "  In J. Neves, M. F. Santos and J. Machado Eds., New Trends in Artificial Intelligence, \n",
    "  Proceedings of the 13th EPIA 2007 - Portuguese Conference on Artificial Intelligence, December, \n",
    "  Guimaraes, Portugal, pp. 512-523, 2007. APPIA, ISBN-13 978-989-95618-0-9. \n",
    "  Available at: http://www.dsi.uminho.pt/~pcortez/fires.pdf\n",
    "\n",
    "1. Title: Forest Fires\n",
    "\n",
    "2. Sources\n",
    "   Created by: Paulo Cortez and An�bal Morais (Univ. Minho) @ 2007\n",
    "   \n",
    "3. Past Usage:\n",
    "\n",
    "   P. Cortez and A. Morais. A Data Mining Approach to Predict Forest Fires using Meteorological Data.\n",
    "   In Proceedings of the 13th EPIA 2007 - Portuguese Conference on Artificial Intelligence, \n",
    "   December, 2007. (http://www.dsi.uminho.pt/~pcortez/fires.pdf)\n",
    "   \n",
    "В приведенной выше ссылке результирующая «область» была сначала преобразована с помощью функции ln (x + 1). Затем было применено несколько методов анализа данных. После подгонки моделей, результаты были постобработаны с обратным преобразованием ln (x + 1). Были использовано четыре различных входных наборов. Эксперименты проводились с использованием 10-кратной кросс валидации в 30 прогонах. Две Метрики регрессии были использованы: MAD и RMSE. Гауссовская машина опорных векторов (SVM)только с 4 параметрами (температура, относительная влажность, ветер и дождь) получила лучшее значение MAD:\n",
    "12,71 + - 0,01 (среднее значение и доверительный интервал в пределах 95% с использованием распределения t-Стьюдента. Лучший RMSE был достигнут наивным средним предиктором. Анализ кривой ошибки регрессии(REC) показывает, что модель SVM предсказывает больше примеров в пределах более низкой допустимой ошибки. В результате, модель SVM лучше предсказывает небольшие пожары, которые составляют большинство.   \n",
    "\n",
    "4. Полезная информация:\n",
    "\n",
    "   Это невероятно сложная задача регрессии. Может быть использовано для тестирования методов регрессии. Более того, это можно использовать для тестирования методов обнаружения, так как не до конца понятно сколько здесь выбросов. Кроме того, количество примеров пожаров с большой площадью повреждения очень мало.\n",
    "\n",
    "5. Количество наблюдений: 517.\n",
    "\n",
    "6. Количество переменных: 12 независимых + 1 зависимая.\n",
    "  \n",
    "   Заметка: Некоторые параметры могу коррелировать, следовательно, было бы логично попытаться применить какой-нибудь метод выбора параметров.\n",
    "\n",
    "7. Информация о параметрах:\n",
    "\n",
    "   Для большего количества информации, читайте: [Cortez and Morais, 2007].\n",
    "\n",
    "   1. X - координата оси X на карте парка Монтезиньо: от 1 до 9;\n",
    "   2. Y - координата оси Y на карте парка Монтезиньо: от 2 до 9;\n",
    "   3. Месяц – месяц года: от \"Январь\" до \"Декабрь\";\n",
    "   4. День – день недели: “понедельник\" до \"воскресенья\";\n",
    "   5. FFMC - FFMC index from the FWI system: от 18.7 до 96.20;\n",
    "   6. DMC - DMC index from the FWI system: от 1.1 до 291.3; \n",
    "   7. DC - DC index from the FWI system: 7.9 to 860.6; \n",
    "   8. ISI - ISI index from the FWI system: 0.0 to 56.10;\n",
    "   9. температура – температура в градусах Цельсия: от 2.2 до 33.30;\n",
    "   10. RH - относительная влажность в %: от 15.0 до 100;\n",
    "   11. Ветер – скорость ветра в км/ч: от 0.40 до 9.40;\n",
    "   12. Дождь – дождь в мм/м^2: от 0.0 до 6.4;\n",
    "   13. Площадь – площадь сгоревшего леса в гектарах: от 0.00 до 1090.84.\n",
    "   (результирующая переменная очень перекошена в сторону 0.0, следовательно, было бы логично попытаться прологарифмировать данные). \n",
    "\n",
    "8. Пропущенные значения: отсутствуют.\n",
    "\n"
   ]
  }
 ],
 "metadata": {
  "kernelspec": {
   "display_name": "Python 3",
   "language": "python",
   "name": "python3"
  },
  "language_info": {
   "codemirror_mode": {
    "name": "ipython",
    "version": 3
   },
   "file_extension": ".py",
   "mimetype": "text/x-python",
   "name": "python",
   "nbconvert_exporter": "python",
   "pygments_lexer": "ipython3",
   "version": "3.7.0"
  }
 },
 "nbformat": 4,
 "nbformat_minor": 2
}
