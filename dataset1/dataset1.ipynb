{
 "cells": [
  {
   "cell_type": "markdown",
   "metadata": {},
   "source": [
    "Ссылка на датасет: https://archive.ics.uci.edu/ml/datasets/BuddyMove+Data+Set\n",
    "\n",
    "Название: <b>Рецензии на места Южной Индии</b>\n",
    "\n",
    "Данный датасет содержит в себе данные о рецензиях на места Южной Индии оставленных на сайте holidayiq.com до октября 2014 года.\n",
    "\n",
    "Были рассмотренны рецензии на 6 категорий мест и для каждого пользователя было учтенно колличество отзывов на каждую категорию\n",
    "\n",
    "Атрибуты:\n",
    "1. User Id - Id пользователя;\n",
    "2. Sports -  Колличество обзоров на стадионы, спорткомплексы и различные спортивные заведения ;\n",
    "3. Religious - Колличество обзоров на места связзанные с религией;\n",
    "4. Nature - Колличество обзоров на реки, пляжи, озера и т.д;\n",
    "5. Theatre - Колличество обзоров на публичные места, театры, кинотеатры, выставки;\n",
    "6. Shopping - Колличество обзоров на торговые центры и различные магазины;\n",
    "7. Picnic - Колличество обзоров на парки, скверы и т.д;\n"
   ]
  }
 ],
 "metadata": {
  "kernelspec": {
   "display_name": "Python 3",
   "language": "python",
   "name": "python3"
  },
  "language_info": {
   "codemirror_mode": {
    "name": "ipython",
    "version": 3
   },
   "file_extension": ".py",
   "mimetype": "text/x-python",
   "name": "python",
   "nbconvert_exporter": "python",
   "pygments_lexer": "ipython3",
   "version": "3.7.1"
  }
 },
 "nbformat": 4,
 "nbformat_minor": 2
}
