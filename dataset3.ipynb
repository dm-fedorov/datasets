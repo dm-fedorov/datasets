{
 "cells": [
  {
   "cell_type": "markdown",
   "metadata": {},
   "source": [
    "Ссылка на датасет: https://archive.ics.uci.edu/ml/datasets/Somerville+Happiness+Survey#\n",
    "\n",
    "Название: <b>Качество жизни горожан</b>\n",
    "\n",
    "Данные содержат опрос жителей городов о качестве жизни в месте, где они проживают и счастливы ли они проживать там.\n",
    "\n",
    "Атрибуты:\n",
    "\n",
    "D =1 – счастлив, 0 – недоволен (целевая переменная)\n",
    "X1 = доступность информации о городских услугах<br>\n",
    "X2 = стоимость жилья<br> X3 = общее качество государственных школ<br> X4 = доверие к местной полиции<br> X5 = содержание улиц и тротуаров.<br> X6 = наличие социальных мероприятий.\n",
    "<br>\n",
    "\n",
    "Атрибуты с X1 по X6 принимают значения от 1 до 5.\n",
    "    \n"
   ]
  },
  {
   "cell_type": "code",
   "execution_count": null,
   "metadata": {},
   "outputs": [],
   "source": []
  }
 ],
 "metadata": {
  "kernelspec": {
   "display_name": "Python 3",
   "language": "python",
   "name": "python3"
  },
  "language_info": {
   "codemirror_mode": {
    "name": "ipython",
    "version": 3
   },
   "file_extension": ".py",
   "mimetype": "text/x-python",
   "name": "python",
   "nbconvert_exporter": "python",
   "pygments_lexer": "ipython3",
   "version": "3.7.1"
  }
 },
 "nbformat": 4,
 "nbformat_minor": 2
}
