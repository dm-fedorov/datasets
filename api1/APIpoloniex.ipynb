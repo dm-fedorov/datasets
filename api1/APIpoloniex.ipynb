{
 "cells": [
  {
   "cell_type": "markdown",
   "metadata": {},
   "source": [
    "https://github.com/s4w3d0ff/python-poloniex\n",
    "\n",
    "Библиотека для работы с API криптобиржи Poloniex"
   ]
  },
  {
   "cell_type": "markdown",
   "metadata": {},
   "source": [
    "Установка библиотеки:"
   ]
  },
  {
   "cell_type": "code",
   "execution_count": 37,
   "metadata": {},
   "outputs": [
    {
     "name": "stdout",
     "output_type": "stream",
     "text": [
      "Requirement already satisfied: poloniex in c:\\users\\student\\anaconda3\\lib\\site-packages (0.4.7)\n",
      "Requirement already satisfied: requests in c:\\users\\student\\anaconda3\\lib\\site-packages (from poloniex) (2.21.0)\n",
      "Requirement already satisfied: certifi>=2017.4.17 in c:\\users\\student\\anaconda3\\lib\\site-packages (from requests->poloniex) (2018.11.29)\n",
      "Requirement already satisfied: chardet<3.1.0,>=3.0.2 in c:\\users\\student\\anaconda3\\lib\\site-packages (from requests->poloniex) (3.0.4)\n",
      "Requirement already satisfied: idna<2.9,>=2.5 in c:\\users\\student\\anaconda3\\lib\\site-packages (from requests->poloniex) (2.8)\n",
      "Requirement already satisfied: urllib3<1.25,>=1.21.1 in c:\\users\\student\\anaconda3\\lib\\site-packages (from requests->poloniex) (1.24.1)\n"
     ]
    }
   ],
   "source": [
    "!pip install poloniex"
   ]
  },
  {
   "cell_type": "code",
   "execution_count": 17,
   "metadata": {},
   "outputs": [],
   "source": [
    "from poloniex import Poloniex"
   ]
  },
  {
   "cell_type": "code",
   "execution_count": 35,
   "metadata": {},
   "outputs": [],
   "source": [
    "polo = Poloniex() #создаем обьект класса полоникс"
   ]
  },
  {
   "cell_type": "markdown",
   "metadata": {},
   "source": [
    "<b>Пример некоторых запросов</b>\n",
    "\n",
    "PUBLIC COMMANDS (Получение публичных данных с биржи (без привязки аккаунта))"
   ]
  },
  {
   "cell_type": "code",
   "execution_count": 19,
   "metadata": {},
   "outputs": [
    {
     "data": {
      "text/plain": [
       "{'id': 121, 'last': 3899.9407861, 'lowestAsk': 3903.52363379, 'highestBid': 3902.72807016, 'percentChange': 0.04345594, 'baseVolume': 5265778.44910885, 'quoteVolume': 1360.66635783, 'isFrozen': 0, 'high24hr': 3986.00000002, 'low24hr': 3724.0}"
      ]
     },
     "execution_count": 19,
     "metadata": {},
     "output_type": "execute_result"
    }
   ],
   "source": [
    "polo.returnTicker()['USDT_BTC'] #Запрос тикеров валютной пары (последняя цена, изменение в процентах, объем валют и т.д.)"
   ]
  },
  {
   "cell_type": "code",
   "execution_count": 30,
   "metadata": {},
   "outputs": [
    {
     "data": {
      "text/plain": [
       "[['0.03764499', 25.95501307],\n",
       " ['0.03764500', 3.2866],\n",
       " ['0.03764501', 3.2727],\n",
       " ['0.03764713', 0.47711385],\n",
       " ['0.03764717', 0.26835915],\n",
       " ['0.03765890', 1.6971966],\n",
       " ['0.03766000', 0.041],\n",
       " ['0.03766444', 12.75070069],\n",
       " ['0.03766924', 0.009],\n",
       " ['0.03767376', 12.75070069],\n",
       " ['0.03768972', 1.02263529],\n",
       " ['0.03768975', 28.56789941],\n",
       " ['0.03769000', 0.05871072],\n",
       " ['0.03771599', 116.47026549],\n",
       " ['0.03771600', 220.0645541],\n",
       " ['0.03771606', 160],\n",
       " ['0.03771607', 0.78276792],\n",
       " ['0.03772459', 13.27556387],\n",
       " ['0.03772460', 0.00344607],\n",
       " ['0.03773874', 0.73906102],\n",
       " ['0.03773980', 25.612],\n",
       " ['0.03774001', 0.04],\n",
       " ['0.03774003', 0.25],\n",
       " ['0.03774686', 398.230606],\n",
       " ['0.03774688', 13.27801216],\n",
       " ['0.03774902', 2.74088346],\n",
       " ['0.03775679', 0.091324],\n",
       " ['0.03776403', 0.00465777],\n",
       " ['0.03777300', 117.606],\n",
       " ['0.03778140', 0.44529734],\n",
       " ['0.03778291', 0.00465626],\n",
       " ['0.03778997', 0.02665419],\n",
       " ['0.03779002', 0.02668086],\n",
       " ['0.03779395', 20.75574519],\n",
       " ['0.03780000', 0.05],\n",
       " ['0.03780136', 0.5577467],\n",
       " ['0.03780181', 0.00465514],\n",
       " ['0.03780629', 118.9484992],\n",
       " ['0.03780809', 1],\n",
       " ['0.03782072', 0.00464959],\n",
       " ['0.03782250', 25],\n",
       " ['0.03782335', 0.0058],\n",
       " ['0.03782579', 7.6075228],\n",
       " ['0.03783330', 0.03],\n",
       " ['0.03783900', 0.82956737],\n",
       " ['0.03783963', 0.00465216],\n",
       " ['0.03784823', 508.4325915],\n",
       " ['0.03784824', 0.46413567],\n",
       " ['0.03785283', 0.25],\n",
       " ['0.03785284', 1600]]"
      ]
     },
     "execution_count": 30,
     "metadata": {},
     "output_type": "execute_result"
    }
   ],
   "source": [
    "polo.returnOrderBook(\"BTC_ETH\")['asks']#Запрос данных по ордерам покупки валюты"
   ]
  },
  {
   "cell_type": "markdown",
   "metadata": {},
   "source": [
    "PRIVATE COMMANDS (Для запросов данных о балансе, истории сделок аккаунта и т.д. Для работы с приватными командами необходимо запросить Secret Key и Api Key в Вашем аккаунте)"
   ]
  },
  {
   "cell_type": "code",
   "execution_count": null,
   "metadata": {},
   "outputs": [],
   "source": [
    "polo = poloniex.Poloniex('Ваш Api Key','Ваш Secret KeyHere')\n",
    "# или\n",
    "polo.key = 'Ваш Api Key'\n",
    "polo.secret = 'Ваш Secret KeyHere'"
   ]
  },
  {
   "cell_type": "code",
   "execution_count": null,
   "metadata": {},
   "outputs": [],
   "source": [
    "balance = polo.returnBalances()#Запрос баланса всех валют\n",
    "print(\"I have %s ETH!\" % balance['ETH'])"
   ]
  },
  {
   "cell_type": "code",
   "execution_count": null,
   "metadata": {},
   "outputs": [],
   "source": [
    "polo.buy(\"USDT_BTC\", price, amount) #Покупка BTC за USDT по цене price в количестве amount"
   ]
  }
 ],
 "metadata": {
  "kernelspec": {
   "display_name": "Python 3",
   "language": "python",
   "name": "python3"
  },
  "language_info": {
   "codemirror_mode": {
    "name": "ipython",
    "version": 3
   },
   "file_extension": ".py",
   "mimetype": "text/x-python",
   "name": "python",
   "nbconvert_exporter": "python",
   "pygments_lexer": "ipython3",
   "version": "3.7.1"
  }
 },
 "nbformat": 4,
 "nbformat_minor": 2
}
