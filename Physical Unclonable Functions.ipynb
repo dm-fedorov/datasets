{
 "cells": [
  {
   "cell_type": "markdown",
   "metadata": {},
   "source": [
    "Физически неклонируемая функция (PUF)"
   ]
  },
  {
   "cell_type": "markdown",
   "metadata": {},
   "source": [
    "Аннотация: Набор данных генерируется путем моделирования физических неклонируемых функций (PUF), в частности PUF XOR Arbiter. PUF используются для аутентификации. Для получения дополнительной информации обратитесь к нашей статье ниже.\n",
    "\n",
    "Ahmad O. Aseeri (a.aseeri@psau.edu.sa), Yu Zhuang (yu.zhuang@ttu.edu) - Department of Computer Science, Texas Tech University, United States \n",
    "Mohammed Saeed Alkatheiri (msalkatheri@uj.edu.sa) - Faculty of Computing and Information Technology, University of Jeddah, Saudi Arabia"
   ]
  },
  {
   "cell_type": "markdown",
   "metadata": {},
   "source": [
    "Существует два набора данных, сгенерированных в результате моделирования PUF-модуля k-XOR:\n",
    "\n",
    "5-XOR_128bit набор данных:\n",
    "Этот набор данных генерируется с использованием 5-XOR 128-битных этапов PUF. Он состоит из 6 миллионов строк и 129 атрибутов, где последний атрибут является меткой класса (1 или -1). Он разделен на два набора: обучающий набор (5 миллионов) и набор для тестирования (1 миллион).\n",
    "\n",
    "6-XOR_64bit набор данных:\n",
    "Этот набор данных генерируется с использованием 6-XOR 64-разрядных этапов PUF. Он состоит из 2,4 миллионов строк и 65 атрибутов, где последний атрибут является меткой класса (1 или -1). Он разделен на два набора: обучающий набор (2 миллиона) и набор для тестирования (400К)."
   ]
  },
  {
   "cell_type": "markdown",
   "metadata": {},
   "source": [
    "В данном датасете пропуски отсутствуют."
   ]
  },
  {
   "cell_type": "markdown",
   "metadata": {},
   "source": [
    "Ссылка на статью: \n",
    "Aseeri, A. O., Zhuang, Y., & Alkatheiri, M. S. (2018, July). A Machine Learning-Based Security Vulnerability Study on XOR PUFs for Resource-Constraint Internet of Things. In 2018 IEEE International Congress on Internet of Things (ICIOT) (pp. 49-56). IEEE."
   ]
  },
  {
   "cell_type": "markdown",
   "metadata": {},
   "source": [
    "Ссылка на данные :https://archive.ics.uci.edu/ml/machine-learning-databases/00463/"
   ]
  }
 ],
 "metadata": {
  "kernelspec": {
   "display_name": "Python 3",
   "language": "python",
   "name": "python3"
  },
  "language_info": {
   "codemirror_mode": {
    "name": "ipython",
    "version": 3
   },
   "file_extension": ".py",
   "mimetype": "text/x-python",
   "name": "python",
   "nbconvert_exporter": "python",
   "pygments_lexer": "ipython3",
   "version": "3.6.5"
  }
 },
 "nbformat": 4,
 "nbformat_minor": 2
}
