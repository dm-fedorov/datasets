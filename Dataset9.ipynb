{
 "cells": [
  {
   "cell_type": "markdown",
   "metadata": {},
   "source": [
    "Ссылка на датасет: https://archive.ics.uci.edu/ml/datasets/Discrete+Tone+Image+Dataset\n",
    "        \n",
    "Название:<b> Дискретная тональность изображений </b>.\n",
    "    \n",
    "    \n",
    "Этот набор данных содержит в общей сложности 71 изображение, включая 11 типов изображений с его искаженными версиями. Каждое изображение имеет свою уникальную особенность дискретных тоновых свойств изображения.\n",
    "\n",
    "Типы изображений:\n",
    "\n",
    "1.System Generated DTI в пиксtльных значениях\n",
    "\n",
    "2.Discrete Pixel Logo\n",
    "\n",
    "3.Business Charts\n",
    "\n",
    "4.Bi-Level\n",
    "\n",
    "5.Part of Discrete Information from an Continuous Image\n",
    "\n",
    "Цветовые модели:\n",
    "\n",
    "1.RGB\n",
    "\n",
    "2.Grayscale\n",
    "\n",
    "3.Binary\n",
    "\n",
    "Типы искажений:\n",
    "\n",
    "1.JPEG \n",
    "\n",
    "2.Gaussian White Noise (GWN) \n",
    "\n",
    "3.Salt and Pepper noise (SP)\n",
    "\n",
    "4.Multiplicative Speckle Noise (MSN)\n",
    "\n",
    "5.Poisson Noise (PN)\n",
    "\n",
    "\n",
    "\n",
    "\n"
   ]
  },
  {
   "cell_type": "code",
   "execution_count": null,
   "metadata": {},
   "outputs": [],
   "source": []
  }
 ],
 "metadata": {
  "kernelspec": {
   "display_name": "Python 3",
   "language": "python",
   "name": "python3"
  },
  "language_info": {
   "codemirror_mode": {
    "name": "ipython",
    "version": 3
   },
   "file_extension": ".py",
   "mimetype": "text/x-python",
   "name": "python",
   "nbconvert_exporter": "python",
   "pygments_lexer": "ipython3",
   "version": "3.7.1"
  }
 },
 "nbformat": 4,
 "nbformat_minor": 2
}
