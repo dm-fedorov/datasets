{
 "cells": [
  {
   "cell_type": "markdown",
   "metadata": {},
   "source": [
    "<center>\n",
    "Набор данных по успеваемости студентов"
   ]
  },
  {
   "cell_type": "markdown",
   "metadata": {},
   "source": [
    "Тип задача: Задача классификации"
   ]
  },
  {
   "cell_type": "markdown",
   "metadata": {},
   "source": [
    "Всего в наборе имеется 300 наблюдений. Пропуски отсутствуют. \n",
    "Количество предикторов 22."
   ]
  },
  {
   "cell_type": "markdown",
   "metadata": {},
   "source": [
    "Резюме: В наборе данных была предпринята попытка найти процентное прогнозирование на конец семестра на основе различных социальных, экономических и академических характеристик."
   ]
  },
  {
   "cell_type": "raw",
   "metadata": {},
   "source": [
    "Источник данных: https://archive.ics.uci.edu/ml/datasets/Student+Academics+Performance"
   ]
  },
  {
   "cell_type": "markdown",
   "metadata": {},
   "source": [
    "Информация по данным: Hussain S, Dahan N.A, Ba-Alwi F.M, Ribata N. Educational Data Mining and Analysis of Studentsâ€™ Academic Performance Using WEKA. Indonesian Journal of Electrical Engineering and Computer Science. 2018; Vol. 9, No. 2. February. pp. 447~459"
   ]
  },
  {
   "cell_type": "markdown",
   "metadata": {},
   "source": [
    "Контакты: Dr Sadiq Hussain, Dibrugarh University, Dibrugarh, Assam, India, sadiq@dibru.ac.in"
   ]
  }
 ],
 "metadata": {
  "kernelspec": {
   "display_name": "Python 3",
   "language": "python",
   "name": "python3"
  },
  "language_info": {
   "codemirror_mode": {
    "name": "ipython",
    "version": 3
   },
   "file_extension": ".py",
   "mimetype": "text/x-python",
   "name": "python",
   "nbconvert_exporter": "python",
   "pygments_lexer": "ipython3",
   "version": "3.6.5"
  }
 },
 "nbformat": 4,
 "nbformat_minor": 2
}
