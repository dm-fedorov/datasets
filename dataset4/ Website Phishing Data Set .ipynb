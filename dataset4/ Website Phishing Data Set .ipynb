{
 "cells": [
  {
   "cell_type": "markdown",
   "metadata": {},
   "source": [
    "# <center> Фишинг сайтов (Website Phishing Data Set)."
   ]
  },
  {
   "cell_type": "markdown",
   "metadata": {},
   "source": [
    "### Описание:"
   ]
  },
  {
   "cell_type": "markdown",
   "metadata": {},
   "source": [
    "Проблема фишинга считается насущной проблемой в «.COM». Индустрия, особенно электронная банковская деятельность и электронная коммерция, принимает количество онлайн-транзакций с платежами. \n",
    "Мы выявили различные функции, связанные с легитимными и фишинговыми веб-сайтами, и собрали 1353 различных веб-сайта из разных источников. Фишинговые веб-сайты были собраны из архива данных Phishtank (www.phishtank.com), который является бесплатным сайтом сообщества, где пользователи могут отправлять, проверять, отслеживать и обмениваться фишинговыми данными. Законные веб-сайты были собраны из каталогов Yahoo и отправной точки с использованием веб-скрипта, разработанного на PHP. Скрипт PHP был подключен к браузеру, и мы собрали 548 законных веб-сайтов из 1353 веб-сайтов. Существует 702 фишинговых и 103 подозрительных URL. \n",
    "\n",
    "Количество наблюдений: 1353\n",
    "\n",
    "Количество атрибутов: 10\n",
    "\n",
    "Пропусков в данных нет.\n",
    "\n",
    "Когда веб-сайт считается ПОДТВЕРЖДЕННЫМ, это означает, что он может быть фишинговым или законным, то есть веб-сайт обладает некоторыми легальными и фишинговыми функциями."
   ]
  },
  {
   "cell_type": "markdown",
   "metadata": {},
   "source": [
    "### Информация об атрибутах:"
   ]
  },
  {
   "cell_type": "markdown",
   "metadata": {},
   "source": [
    "URL Anchor\t\n",
    "Request URL - \t\n",
    "SFH\t\n",
    "URL Length\t\n",
    "Having â€™@â€™\t\n",
    "Prefix/Suffix\t\n",
    "IP\t\n",
    "Sub Domain\t\n",
    "Web traffic\t\n",
    "Domain age\t\n",
    "Class "
   ]
  },
  {
   "cell_type": "markdown",
   "metadata": {},
   "source": [
    "### Источник:"
   ]
  },
  {
   "cell_type": "markdown",
   "metadata": {},
   "source": [
    "Неда Абдельхамид \n",
    "Оклендский институт исследований \n",
    "nedah '@' ais.ac.nz"
   ]
  },
  {
   "cell_type": "markdown",
   "metadata": {},
   "source": [
    "### Ссылка:"
   ]
  },
  {
   "cell_type": "markdown",
   "metadata": {},
   "source": [
    "https://archive.ics.uci.edu/ml/datasets/Website+Phishing"
   ]
  }
 ],
 "metadata": {
  "kernelspec": {
   "display_name": "Python 3",
   "language": "python",
   "name": "python3"
  },
  "language_info": {
   "codemirror_mode": {
    "name": "ipython",
    "version": 3
   },
   "file_extension": ".py",
   "mimetype": "text/x-python",
   "name": "python",
   "nbconvert_exporter": "python",
   "pygments_lexer": "ipython3",
   "version": "3.6.5"
  }
 },
 "nbformat": 4,
 "nbformat_minor": 2
}
