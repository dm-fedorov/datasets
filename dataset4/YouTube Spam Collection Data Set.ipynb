{
 "cells": [
  {
   "cell_type": "markdown",
   "metadata": {},
   "source": [
    "# <center> Коллекция спама на YouTube (YouTube Spam Collection Data Set)."
   ]
  },
  {
   "cell_type": "markdown",
   "metadata": {},
   "source": [
    "### Описание:"
   ]
  },
  {
   "cell_type": "markdown",
   "metadata": {},
   "source": [
    "Это общедоступный набор комментариев, собранных для исследования спама. Он имеет пять наборов данных, состоящих из 1956 реальных сообщений, собранных из пяти видео, которые были среди 10 самых просматриваемых за период сбора.\n",
    "В таблице ниже перечислены примеры набора данных, ID пользователя на YouTube, количество выборок в каждом классе и общее количество выборок на набор данных.\n",
    "Dataset --- YouTube ID -- # Spam - # Ham - Total \n",
    "Psy ------- 9bZkp7q19f0 --- 175 --- 175 --- 350 \n",
    "KatyPerry - CevxZvSJLk8 --- 175 --- 175 --- 350 \n",
    "LMFAO ----- KQ6zr6kCPj8 --- 236 --- 202 --- 438 \n",
    "Eminem ---- uelHwf8o7_U --- 245 --- 203 --- 448 \n",
    "Shakira --- pRpeEdMmmQ0 --- 174 --- 196 --- 370 \n",
    "Примечание: хронологический порядок комментариев был сохранен.\n"
   ]
  },
  {
   "cell_type": "markdown",
   "metadata": {},
   "source": [
    "### Информация об атрибутах:"
   ]
  },
  {
   "cell_type": "markdown",
   "metadata": {},
   "source": [
    "Коллекция состоит из одного файла CSV на каждый набор данных, где каждая строка имеет следующие атрибуты: \n",
    "COMMENT_ID, AUTHOR, DATE, CONTENT, TAG. \n"
   ]
  },
  {
   "cell_type": "markdown",
   "metadata": {},
   "source": [
    "Количество атрибутов: 5"
   ]
  },
  {
   "cell_type": "markdown",
   "metadata": {},
   "source": [
    "Количество наблюдений: 1956\n",
    "\n",
    "Пропусков в данных нет."
   ]
  },
  {
   "cell_type": "markdown",
   "metadata": {},
   "source": [
    "**Один пример комментария ниже: **\n",
    "z12oglnpoq3gjh4om04cfdlbgp2uepyytpw0k, Francisco Nora, 2013-11-28T19: 52: 35,D [https://premium.easypromosapp.com/promotions/not_active/expired/19924] , 1.\n"
   ]
  },
  {
   "cell_type": "markdown",
   "metadata": {},
   "source": [
    "### Источник:"
   ]
  },
  {
   "cell_type": "markdown",
   "metadata": {},
   "source": [
    "Этот набор данных был собран с помощью API данных YouTube v3."
   ]
  },
  {
   "cell_type": "markdown",
   "metadata": {},
   "source": [
    "### Ссылка:"
   ]
  },
  {
   "cell_type": "markdown",
   "metadata": {},
   "source": [
    "https://archive.ics.uci.edu/ml/datasets/FMA%3A+A+Dataset+For+Music+Analysis"
   ]
  }
 ],
 "metadata": {
  "kernelspec": {
   "display_name": "Python 3",
   "language": "python",
   "name": "python3"
  },
  "language_info": {
   "codemirror_mode": {
    "name": "ipython",
    "version": 3
   },
   "file_extension": ".py",
   "mimetype": "text/x-python",
   "name": "python",
   "nbconvert_exporter": "python",
   "pygments_lexer": "ipython3",
   "version": "3.6.5"
  }
 },
 "nbformat": 4,
 "nbformat_minor": 2
}
