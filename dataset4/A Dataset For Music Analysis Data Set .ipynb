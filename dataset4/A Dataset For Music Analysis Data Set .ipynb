{
 "cells": [
  {
   "cell_type": "markdown",
   "metadata": {},
   "source": [
    "# <center> FMA: данные для анализа музыки (FMA: A Dataset For Music Analysis Data Set)."
   ]
  },
  {
   "cell_type": "markdown",
   "metadata": {},
   "source": [
    "### Описание:"
   ]
  },
  {
   "cell_type": "markdown",
   "metadata": {},
   "source": [
    "Данные FMA содержит 106 574 трека и включает название песни, альбом, исполнителя, жанры; счетчик прослушивания, избранное, комментарии; описание, биография, теги; запись подряд (343 дней, 917 ГиБ) и особенности.\n",
    "Аудио дорожка (закодированная в формате mp3) каждой из 106 574 дорожек. Это в среднем 10 миллионов выборок на трек.  Девять аудио особенностей (состоящих из 518 атрибутов) для каждого из 106 574 треков.  Учитывая метаданные, можно исследовать несколько проблем: рекомендации, распознавание жанров, идентификация артистов, прогноз года, музыкальная аннотация, неконтролируемая категоризация.  Набор данных разделен на четыре размера: маленький, средний, большой, полный. \n",
    "Пожалуйста, смотрите документ и репозиторий GitHub для получения дополнительной информации (https://github.com/mdeff/fma).\n"
   ]
  },
  {
   "cell_type": "markdown",
   "metadata": {},
   "source": [
    "### Информация об атрибутах:"
   ]
  },
  {
   "cell_type": "markdown",
   "metadata": {},
   "source": [
    "Девять атрибутов рассчитываются по времени и суммируются с семью статистическими данными (среднее значение, стандартное отклонение, перекос, эксцесс, медиана, минимум, максимум): \n",
    "1. Хроматичность, 84 атрибута, \n",
    "2. Тоннец (Tonnetz,), 42 атрибута, \n",
    "3. Частотный коэффициент (MFCC), 140 атрибутов \n",
    "4. Спектральный центроид, 7 атрибутов \n",
    "5. Спектральная ширина полосы, 7 атрибутов \n",
    "6. Спектральный контраст, 49 атрибутов \n",
    "7. Спектральный спад, 7 атрибутов \n",
    "8. Среднеквадратичная энергия, 7 атрибутов \n",
    "9. Zero-crossing rate(скорость изменения знака вдоль сигнала), 7 атрибутов\n"
   ]
  },
  {
   "cell_type": "markdown",
   "metadata": {},
   "source": [
    "### Источник:"
   ]
  },
  {
   "cell_type": "markdown",
   "metadata": {},
   "source": [
    "Michaël Defferrard, Kirell Benzi, Pierre Vandergheynst, Xavier Bresson, EPFL LTS2."
   ]
  },
  {
   "cell_type": "markdown",
   "metadata": {},
   "source": [
    "### Ссылка:"
   ]
  },
  {
   "cell_type": "markdown",
   "metadata": {},
   "source": [
    "https://archive.ics.uci.edu/ml/datasets/FMA%3A+A+Dataset+For+Music+Analysis"
   ]
  }
 ],
 "metadata": {
  "kernelspec": {
   "display_name": "Python 3",
   "language": "python",
   "name": "python3"
  },
  "language_info": {
   "codemirror_mode": {
    "name": "ipython",
    "version": 3
   },
   "file_extension": ".py",
   "mimetype": "text/x-python",
   "name": "python",
   "nbconvert_exporter": "python",
   "pygments_lexer": "ipython3",
   "version": "3.6.5"
  }
 },
 "nbformat": 4,
 "nbformat_minor": 2
}
